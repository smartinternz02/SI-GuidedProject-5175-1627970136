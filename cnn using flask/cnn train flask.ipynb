{
 "cells": [
  {
   "cell_type": "code",
   "execution_count": 1,
   "id": "a18c4e6c",
   "metadata": {},
   "outputs": [],
   "source": [
    "from tensorflow.keras.models import Sequential\n",
    "from tensorflow.keras.layers import Dense,Flatten,Convolution2D,MaxPooling2D"
   ]
  },
  {
   "cell_type": "code",
   "execution_count": 2,
   "id": "d6b5b1b0",
   "metadata": {},
   "outputs": [],
   "source": [
    "from tensorflow.keras.preprocessing.image import ImageDataGenerator"
   ]
  },
  {
   "cell_type": "code",
   "execution_count": 3,
   "id": "30792676",
   "metadata": {},
   "outputs": [],
   "source": [
    "train_datagen= ImageDataGenerator(rescale=1./255,shear_range=0.2,zoom_range=0.2,horizontal_flip=True)\n",
    "test_datagen= ImageDataGenerator(rescale=1./255)"
   ]
  },
  {
   "cell_type": "code",
   "execution_count": 4,
   "id": "78089d3f",
   "metadata": {},
   "outputs": [
    {
     "name": "stdout",
     "output_type": "stream",
     "text": [
      "Found 8005 images belonging to 2 classes.\n",
      "Found 2023 images belonging to 2 classes.\n"
     ]
    }
   ],
   "source": [
    "x_train=train_datagen.flow_from_directory(r\"C:\\Users\\DELL\\Desktop\\training_set cat and dog\",target_size=(64,64),batch_size=32,class_mode='categorical')\n",
    "x_test=train_datagen.flow_from_directory(r\"C:\\Users\\DELL\\Desktop\\test_set cat and dog\",target_size=(64,64),batch_size=32,class_mode='categorical')"
   ]
  },
  {
   "cell_type": "code",
   "execution_count": 5,
   "id": "42679e12",
   "metadata": {},
   "outputs": [],
   "source": [
    "cnn=Sequential()"
   ]
  },
  {
   "cell_type": "code",
   "execution_count": 6,
   "id": "1cc7a22f",
   "metadata": {},
   "outputs": [],
   "source": [
    "cnn.add(Convolution2D(32,(3,3),input_shape=(64,64,3)))"
   ]
  },
  {
   "cell_type": "code",
   "execution_count": 7,
   "id": "be16eb04",
   "metadata": {},
   "outputs": [],
   "source": [
    "cnn.add(MaxPooling2D(2,2))"
   ]
  },
  {
   "cell_type": "code",
   "execution_count": 8,
   "id": "87ec05ca",
   "metadata": {},
   "outputs": [],
   "source": [
    "cnn.add(Flatten())"
   ]
  },
  {
   "cell_type": "code",
   "execution_count": 9,
   "id": "4141adc6",
   "metadata": {},
   "outputs": [],
   "source": [
    "cnn.add(Dense(units =128 ,kernel_initializer=\"random_uniform\",activation = 'relu'))"
   ]
  },
  {
   "cell_type": "code",
   "execution_count": 10,
   "id": "15bf86c9",
   "metadata": {},
   "outputs": [],
   "source": [
    "cnn.add(Dense(units = 2,kernel_initializer=\"random_uniform\",activation = 'softmax'))"
   ]
  },
  {
   "cell_type": "code",
   "execution_count": 11,
   "id": "c1e3d595",
   "metadata": {},
   "outputs": [],
   "source": [
    "cnn.compile(optimizer = 'rmsprop',loss=\"categorical_crossentropy\",metrics = ['accuracy'])"
   ]
  },
  {
   "cell_type": "code",
   "execution_count": 13,
   "id": "7a502ff4",
   "metadata": {},
   "outputs": [
    {
     "name": "stdout",
     "output_type": "stream",
     "text": [
      "Epoch 1/5\n",
      "250/250 [==============================] - 64s 255ms/step - loss: 0.6285 - accuracy: 0.6416 - val_loss: 0.6297 - val_accuracy: 0.6436\n",
      "Epoch 2/5\n",
      "250/250 [==============================] - 55s 219ms/step - loss: 0.6107 - accuracy: 0.6713 - val_loss: 0.5981 - val_accuracy: 0.6762\n",
      "Epoch 3/5\n",
      "250/250 [==============================] - 49s 195ms/step - loss: 0.5927 - accuracy: 0.6781 - val_loss: 0.5917 - val_accuracy: 0.6851\n",
      "Epoch 4/5\n",
      "250/250 [==============================] - 49s 194ms/step - loss: 0.5810 - accuracy: 0.6897 - val_loss: 0.5946 - val_accuracy: 0.6703\n",
      "Epoch 5/5\n",
      "250/250 [==============================] - 49s 194ms/step - loss: 0.5674 - accuracy: 0.7077 - val_loss: 0.5910 - val_accuracy: 0.6906\n"
     ]
    },
    {
     "data": {
      "text/plain": [
       "<keras.callbacks.History at 0x16f1dfbb790>"
      ]
     },
     "execution_count": 13,
     "metadata": {},
     "output_type": "execute_result"
    }
   ],
   "source": [
    "cnn.fit_generator(x_train,steps_per_epoch=8005/32,epochs=5,validation_data=x_test,validation_steps=2023/32)"
   ]
  },
  {
   "cell_type": "code",
   "execution_count": 14,
   "id": "29332482",
   "metadata": {},
   "outputs": [],
   "source": [
    "cnn.save(\"catsdogs.h5\")"
   ]
  },
  {
   "cell_type": "code",
   "execution_count": null,
   "id": "01933341",
   "metadata": {},
   "outputs": [],
   "source": []
  },
  {
   "cell_type": "code",
   "execution_count": null,
   "id": "046821c8",
   "metadata": {},
   "outputs": [],
   "source": []
  },
  {
   "cell_type": "code",
   "execution_count": null,
   "id": "310da7ce",
   "metadata": {},
   "outputs": [],
   "source": []
  }
 ],
 "metadata": {
  "kernelspec": {
   "display_name": "Python 3",
   "language": "python",
   "name": "python3"
  },
  "language_info": {
   "codemirror_mode": {
    "name": "ipython",
    "version": 3
   },
   "file_extension": ".py",
   "mimetype": "text/x-python",
   "name": "python",
   "nbconvert_exporter": "python",
   "pygments_lexer": "ipython3",
   "version": "3.8.8"
  }
 },
 "nbformat": 4,
 "nbformat_minor": 5
}
