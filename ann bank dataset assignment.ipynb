{
 "cells": [
  {
   "cell_type": "code",
   "execution_count": 1,
   "id": "c951e567",
   "metadata": {},
   "outputs": [],
   "source": [
    "import numpy as np \n",
    "import pandas as pd"
   ]
  },
  {
   "cell_type": "code",
   "execution_count": 2,
   "id": "8879f309",
   "metadata": {},
   "outputs": [],
   "source": [
    "dataset=pd.read_csv(\"bank.csv\")"
   ]
  },
  {
   "cell_type": "code",
   "execution_count": 3,
   "id": "22ddf57f",
   "metadata": {},
   "outputs": [
    {
     "data": {
      "text/html": [
       "<div>\n",
       "<style scoped>\n",
       "    .dataframe tbody tr th:only-of-type {\n",
       "        vertical-align: middle;\n",
       "    }\n",
       "\n",
       "    .dataframe tbody tr th {\n",
       "        vertical-align: top;\n",
       "    }\n",
       "\n",
       "    .dataframe thead th {\n",
       "        text-align: right;\n",
       "    }\n",
       "</style>\n",
       "<table border=\"1\" class=\"dataframe\">\n",
       "  <thead>\n",
       "    <tr style=\"text-align: right;\">\n",
       "      <th></th>\n",
       "      <th>age</th>\n",
       "      <th>job</th>\n",
       "      <th>marital</th>\n",
       "      <th>education</th>\n",
       "      <th>default</th>\n",
       "      <th>balance</th>\n",
       "      <th>housing</th>\n",
       "      <th>loan</th>\n",
       "      <th>contact</th>\n",
       "      <th>day</th>\n",
       "      <th>month</th>\n",
       "      <th>duration</th>\n",
       "      <th>campaign</th>\n",
       "      <th>pdays</th>\n",
       "      <th>previous</th>\n",
       "      <th>poutcome</th>\n",
       "      <th>deposit</th>\n",
       "    </tr>\n",
       "  </thead>\n",
       "  <tbody>\n",
       "    <tr>\n",
       "      <th>0</th>\n",
       "      <td>59</td>\n",
       "      <td>admin.</td>\n",
       "      <td>married</td>\n",
       "      <td>secondary</td>\n",
       "      <td>no</td>\n",
       "      <td>2343</td>\n",
       "      <td>yes</td>\n",
       "      <td>no</td>\n",
       "      <td>unknown</td>\n",
       "      <td>5</td>\n",
       "      <td>may</td>\n",
       "      <td>1042</td>\n",
       "      <td>1</td>\n",
       "      <td>-1</td>\n",
       "      <td>0</td>\n",
       "      <td>unknown</td>\n",
       "      <td>yes</td>\n",
       "    </tr>\n",
       "    <tr>\n",
       "      <th>1</th>\n",
       "      <td>56</td>\n",
       "      <td>admin.</td>\n",
       "      <td>married</td>\n",
       "      <td>secondary</td>\n",
       "      <td>no</td>\n",
       "      <td>45</td>\n",
       "      <td>no</td>\n",
       "      <td>no</td>\n",
       "      <td>unknown</td>\n",
       "      <td>5</td>\n",
       "      <td>may</td>\n",
       "      <td>1467</td>\n",
       "      <td>1</td>\n",
       "      <td>-1</td>\n",
       "      <td>0</td>\n",
       "      <td>unknown</td>\n",
       "      <td>yes</td>\n",
       "    </tr>\n",
       "    <tr>\n",
       "      <th>2</th>\n",
       "      <td>41</td>\n",
       "      <td>technician</td>\n",
       "      <td>married</td>\n",
       "      <td>secondary</td>\n",
       "      <td>no</td>\n",
       "      <td>1270</td>\n",
       "      <td>yes</td>\n",
       "      <td>no</td>\n",
       "      <td>unknown</td>\n",
       "      <td>5</td>\n",
       "      <td>may</td>\n",
       "      <td>1389</td>\n",
       "      <td>1</td>\n",
       "      <td>-1</td>\n",
       "      <td>0</td>\n",
       "      <td>unknown</td>\n",
       "      <td>yes</td>\n",
       "    </tr>\n",
       "    <tr>\n",
       "      <th>3</th>\n",
       "      <td>55</td>\n",
       "      <td>services</td>\n",
       "      <td>married</td>\n",
       "      <td>secondary</td>\n",
       "      <td>no</td>\n",
       "      <td>2476</td>\n",
       "      <td>yes</td>\n",
       "      <td>no</td>\n",
       "      <td>unknown</td>\n",
       "      <td>5</td>\n",
       "      <td>may</td>\n",
       "      <td>579</td>\n",
       "      <td>1</td>\n",
       "      <td>-1</td>\n",
       "      <td>0</td>\n",
       "      <td>unknown</td>\n",
       "      <td>yes</td>\n",
       "    </tr>\n",
       "    <tr>\n",
       "      <th>4</th>\n",
       "      <td>54</td>\n",
       "      <td>admin.</td>\n",
       "      <td>married</td>\n",
       "      <td>tertiary</td>\n",
       "      <td>no</td>\n",
       "      <td>184</td>\n",
       "      <td>no</td>\n",
       "      <td>no</td>\n",
       "      <td>unknown</td>\n",
       "      <td>5</td>\n",
       "      <td>may</td>\n",
       "      <td>673</td>\n",
       "      <td>2</td>\n",
       "      <td>-1</td>\n",
       "      <td>0</td>\n",
       "      <td>unknown</td>\n",
       "      <td>yes</td>\n",
       "    </tr>\n",
       "    <tr>\n",
       "      <th>...</th>\n",
       "      <td>...</td>\n",
       "      <td>...</td>\n",
       "      <td>...</td>\n",
       "      <td>...</td>\n",
       "      <td>...</td>\n",
       "      <td>...</td>\n",
       "      <td>...</td>\n",
       "      <td>...</td>\n",
       "      <td>...</td>\n",
       "      <td>...</td>\n",
       "      <td>...</td>\n",
       "      <td>...</td>\n",
       "      <td>...</td>\n",
       "      <td>...</td>\n",
       "      <td>...</td>\n",
       "      <td>...</td>\n",
       "      <td>...</td>\n",
       "    </tr>\n",
       "    <tr>\n",
       "      <th>11157</th>\n",
       "      <td>33</td>\n",
       "      <td>blue-collar</td>\n",
       "      <td>single</td>\n",
       "      <td>primary</td>\n",
       "      <td>no</td>\n",
       "      <td>1</td>\n",
       "      <td>yes</td>\n",
       "      <td>no</td>\n",
       "      <td>cellular</td>\n",
       "      <td>20</td>\n",
       "      <td>apr</td>\n",
       "      <td>257</td>\n",
       "      <td>1</td>\n",
       "      <td>-1</td>\n",
       "      <td>0</td>\n",
       "      <td>unknown</td>\n",
       "      <td>no</td>\n",
       "    </tr>\n",
       "    <tr>\n",
       "      <th>11158</th>\n",
       "      <td>39</td>\n",
       "      <td>services</td>\n",
       "      <td>married</td>\n",
       "      <td>secondary</td>\n",
       "      <td>no</td>\n",
       "      <td>733</td>\n",
       "      <td>no</td>\n",
       "      <td>no</td>\n",
       "      <td>unknown</td>\n",
       "      <td>16</td>\n",
       "      <td>jun</td>\n",
       "      <td>83</td>\n",
       "      <td>4</td>\n",
       "      <td>-1</td>\n",
       "      <td>0</td>\n",
       "      <td>unknown</td>\n",
       "      <td>no</td>\n",
       "    </tr>\n",
       "    <tr>\n",
       "      <th>11159</th>\n",
       "      <td>32</td>\n",
       "      <td>technician</td>\n",
       "      <td>single</td>\n",
       "      <td>secondary</td>\n",
       "      <td>no</td>\n",
       "      <td>29</td>\n",
       "      <td>no</td>\n",
       "      <td>no</td>\n",
       "      <td>cellular</td>\n",
       "      <td>19</td>\n",
       "      <td>aug</td>\n",
       "      <td>156</td>\n",
       "      <td>2</td>\n",
       "      <td>-1</td>\n",
       "      <td>0</td>\n",
       "      <td>unknown</td>\n",
       "      <td>no</td>\n",
       "    </tr>\n",
       "    <tr>\n",
       "      <th>11160</th>\n",
       "      <td>43</td>\n",
       "      <td>technician</td>\n",
       "      <td>married</td>\n",
       "      <td>secondary</td>\n",
       "      <td>no</td>\n",
       "      <td>0</td>\n",
       "      <td>no</td>\n",
       "      <td>yes</td>\n",
       "      <td>cellular</td>\n",
       "      <td>8</td>\n",
       "      <td>may</td>\n",
       "      <td>9</td>\n",
       "      <td>2</td>\n",
       "      <td>172</td>\n",
       "      <td>5</td>\n",
       "      <td>failure</td>\n",
       "      <td>no</td>\n",
       "    </tr>\n",
       "    <tr>\n",
       "      <th>11161</th>\n",
       "      <td>34</td>\n",
       "      <td>technician</td>\n",
       "      <td>married</td>\n",
       "      <td>secondary</td>\n",
       "      <td>no</td>\n",
       "      <td>0</td>\n",
       "      <td>no</td>\n",
       "      <td>no</td>\n",
       "      <td>cellular</td>\n",
       "      <td>9</td>\n",
       "      <td>jul</td>\n",
       "      <td>628</td>\n",
       "      <td>1</td>\n",
       "      <td>-1</td>\n",
       "      <td>0</td>\n",
       "      <td>unknown</td>\n",
       "      <td>no</td>\n",
       "    </tr>\n",
       "  </tbody>\n",
       "</table>\n",
       "<p>11162 rows × 17 columns</p>\n",
       "</div>"
      ],
      "text/plain": [
       "       age          job  marital  education default  balance housing loan  \\\n",
       "0       59       admin.  married  secondary      no     2343     yes   no   \n",
       "1       56       admin.  married  secondary      no       45      no   no   \n",
       "2       41   technician  married  secondary      no     1270     yes   no   \n",
       "3       55     services  married  secondary      no     2476     yes   no   \n",
       "4       54       admin.  married   tertiary      no      184      no   no   \n",
       "...    ...          ...      ...        ...     ...      ...     ...  ...   \n",
       "11157   33  blue-collar   single    primary      no        1     yes   no   \n",
       "11158   39     services  married  secondary      no      733      no   no   \n",
       "11159   32   technician   single  secondary      no       29      no   no   \n",
       "11160   43   technician  married  secondary      no        0      no  yes   \n",
       "11161   34   technician  married  secondary      no        0      no   no   \n",
       "\n",
       "        contact  day month  duration  campaign  pdays  previous poutcome  \\\n",
       "0       unknown    5   may      1042         1     -1         0  unknown   \n",
       "1       unknown    5   may      1467         1     -1         0  unknown   \n",
       "2       unknown    5   may      1389         1     -1         0  unknown   \n",
       "3       unknown    5   may       579         1     -1         0  unknown   \n",
       "4       unknown    5   may       673         2     -1         0  unknown   \n",
       "...         ...  ...   ...       ...       ...    ...       ...      ...   \n",
       "11157  cellular   20   apr       257         1     -1         0  unknown   \n",
       "11158   unknown   16   jun        83         4     -1         0  unknown   \n",
       "11159  cellular   19   aug       156         2     -1         0  unknown   \n",
       "11160  cellular    8   may         9         2    172         5  failure   \n",
       "11161  cellular    9   jul       628         1     -1         0  unknown   \n",
       "\n",
       "      deposit  \n",
       "0         yes  \n",
       "1         yes  \n",
       "2         yes  \n",
       "3         yes  \n",
       "4         yes  \n",
       "...       ...  \n",
       "11157      no  \n",
       "11158      no  \n",
       "11159      no  \n",
       "11160      no  \n",
       "11161      no  \n",
       "\n",
       "[11162 rows x 17 columns]"
      ]
     },
     "execution_count": 3,
     "metadata": {},
     "output_type": "execute_result"
    }
   ],
   "source": [
    "dataset"
   ]
  },
  {
   "cell_type": "code",
   "execution_count": 4,
   "id": "0ae09d34",
   "metadata": {},
   "outputs": [
    {
     "name": "stdout",
     "output_type": "stream",
     "text": [
      "<class 'pandas.core.frame.DataFrame'>\n",
      "RangeIndex: 11162 entries, 0 to 11161\n",
      "Data columns (total 17 columns):\n",
      " #   Column     Non-Null Count  Dtype \n",
      "---  ------     --------------  ----- \n",
      " 0   age        11162 non-null  int64 \n",
      " 1   job        11162 non-null  object\n",
      " 2   marital    11162 non-null  object\n",
      " 3   education  11162 non-null  object\n",
      " 4   default    11162 non-null  object\n",
      " 5   balance    11162 non-null  int64 \n",
      " 6   housing    11162 non-null  object\n",
      " 7   loan       11162 non-null  object\n",
      " 8   contact    11162 non-null  object\n",
      " 9   day        11162 non-null  int64 \n",
      " 10  month      11162 non-null  object\n",
      " 11  duration   11162 non-null  int64 \n",
      " 12  campaign   11162 non-null  int64 \n",
      " 13  pdays      11162 non-null  int64 \n",
      " 14  previous   11162 non-null  int64 \n",
      " 15  poutcome   11162 non-null  object\n",
      " 16  deposit    11162 non-null  object\n",
      "dtypes: int64(7), object(10)\n",
      "memory usage: 1.4+ MB\n"
     ]
    }
   ],
   "source": [
    "dataset.info()"
   ]
  },
  {
   "cell_type": "code",
   "execution_count": 5,
   "id": "99a614f7",
   "metadata": {},
   "outputs": [
    {
     "data": {
      "text/plain": [
       "age          False\n",
       "job          False\n",
       "marital      False\n",
       "education    False\n",
       "default      False\n",
       "balance      False\n",
       "housing      False\n",
       "loan         False\n",
       "contact      False\n",
       "day          False\n",
       "month        False\n",
       "duration     False\n",
       "campaign     False\n",
       "pdays        False\n",
       "previous     False\n",
       "poutcome     False\n",
       "deposit      False\n",
       "dtype: bool"
      ]
     },
     "execution_count": 5,
     "metadata": {},
     "output_type": "execute_result"
    }
   ],
   "source": [
    "dataset.isnull().any()"
   ]
  },
  {
   "cell_type": "code",
   "execution_count": 6,
   "id": "4484dfe0",
   "metadata": {},
   "outputs": [],
   "source": [
    "x= dataset.iloc[:,0:16].values"
   ]
  },
  {
   "cell_type": "code",
   "execution_count": 7,
   "id": "c698ed1f",
   "metadata": {},
   "outputs": [
    {
     "data": {
      "text/plain": [
       "array([[59, 'admin.', 'married', ..., -1, 0, 'unknown'],\n",
       "       [56, 'admin.', 'married', ..., -1, 0, 'unknown'],\n",
       "       [41, 'technician', 'married', ..., -1, 0, 'unknown'],\n",
       "       ...,\n",
       "       [32, 'technician', 'single', ..., -1, 0, 'unknown'],\n",
       "       [43, 'technician', 'married', ..., 172, 5, 'failure'],\n",
       "       [34, 'technician', 'married', ..., -1, 0, 'unknown']], dtype=object)"
      ]
     },
     "execution_count": 7,
     "metadata": {},
     "output_type": "execute_result"
    }
   ],
   "source": [
    "x"
   ]
  },
  {
   "cell_type": "code",
   "execution_count": 8,
   "id": "b5a37daf",
   "metadata": {},
   "outputs": [],
   "source": [
    "y= dataset.iloc[:,16:17].values"
   ]
  },
  {
   "cell_type": "code",
   "execution_count": 9,
   "id": "3ba8b9c0",
   "metadata": {},
   "outputs": [
    {
     "data": {
      "text/plain": [
       "array([['yes'],\n",
       "       ['yes'],\n",
       "       ['yes'],\n",
       "       ...,\n",
       "       ['no'],\n",
       "       ['no'],\n",
       "       ['no']], dtype=object)"
      ]
     },
     "execution_count": 9,
     "metadata": {},
     "output_type": "execute_result"
    }
   ],
   "source": [
    "y"
   ]
  },
  {
   "cell_type": "code",
   "execution_count": 10,
   "id": "6331bbbf",
   "metadata": {},
   "outputs": [
    {
     "data": {
      "text/plain": [
       "(11162, 16)"
      ]
     },
     "execution_count": 10,
     "metadata": {},
     "output_type": "execute_result"
    }
   ],
   "source": [
    "x.shape"
   ]
  },
  {
   "cell_type": "code",
   "execution_count": 11,
   "id": "82266e21",
   "metadata": {},
   "outputs": [],
   "source": [
    "from sklearn.compose import ColumnTransformer\n",
    "from sklearn.preprocessing import OneHotEncoder"
   ]
  },
  {
   "cell_type": "code",
   "execution_count": 12,
   "id": "6a855164",
   "metadata": {},
   "outputs": [
    {
     "data": {
      "text/plain": [
       "array(['admin.', 'technician', 'services', 'management', 'retired',\n",
       "       'blue-collar', 'unemployed', 'entrepreneur', 'housemaid',\n",
       "       'unknown', 'self-employed', 'student'], dtype=object)"
      ]
     },
     "execution_count": 12,
     "metadata": {},
     "output_type": "execute_result"
    }
   ],
   "source": [
    "dataset['job'].unique()"
   ]
  },
  {
   "cell_type": "code",
   "execution_count": 16,
   "id": "9a007802",
   "metadata": {},
   "outputs": [
    {
     "name": "stdout",
     "output_type": "stream",
     "text": [
      "['married' 'single' 'divorced']\n",
      "['secondary' 'tertiary' 'primary' 'unknown']\n",
      "['no' 'yes']\n",
      "['yes' 'no']\n",
      "['no' 'yes']\n",
      "['unknown' 'cellular' 'telephone']\n",
      "['may' 'jun' 'jul' 'aug' 'oct' 'nov' 'dec' 'jan' 'feb' 'mar' 'apr' 'sep']\n",
      "['unknown' 'other' 'failure' 'success']\n",
      "['yes' 'no']\n"
     ]
    }
   ],
   "source": [
    "print(dataset[\"marital\"].unique())\n",
    "print(dataset[\"education\"].unique())\n",
    "print(dataset[\"default\"].unique())\n",
    "print(dataset[\"housing\"].unique())\n",
    "print(dataset[\"loan\"].unique())\n",
    "print(dataset[\"contact\"].unique())\n",
    "print(dataset[\"month\"].unique())\n",
    "print(dataset[\"poutcome\"].unique())\n",
    "print(dataset[\"deposit\"].unique())"
   ]
  },
  {
   "cell_type": "code",
   "execution_count": 17,
   "id": "6284f922",
   "metadata": {},
   "outputs": [],
   "source": [
    "ct=ColumnTransformer([(\"one\",OneHotEncoder(),[1,2,3,4,6,7,8,10,15])],remainder=\"passthrough\")\n",
    "x=ct.fit_transform(x)"
   ]
  },
  {
   "cell_type": "code",
   "execution_count": 18,
   "id": "3316e285",
   "metadata": {},
   "outputs": [
    {
     "data": {
      "text/plain": [
       "array([[1.0, 0.0, 0.0, ..., 1, -1, 0],\n",
       "       [1.0, 0.0, 0.0, ..., 1, -1, 0],\n",
       "       [0.0, 0.0, 0.0, ..., 1, -1, 0],\n",
       "       ...,\n",
       "       [0.0, 0.0, 0.0, ..., 2, -1, 0],\n",
       "       [0.0, 0.0, 0.0, ..., 2, 172, 5],\n",
       "       [0.0, 0.0, 0.0, ..., 1, -1, 0]], dtype=object)"
      ]
     },
     "execution_count": 18,
     "metadata": {},
     "output_type": "execute_result"
    }
   ],
   "source": [
    "x"
   ]
  },
  {
   "cell_type": "code",
   "execution_count": 19,
   "id": "bce9527a",
   "metadata": {},
   "outputs": [
    {
     "data": {
      "text/plain": [
       "(11162, 51)"
      ]
     },
     "execution_count": 19,
     "metadata": {},
     "output_type": "execute_result"
    }
   ],
   "source": [
    "x.shape"
   ]
  },
  {
   "cell_type": "code",
   "execution_count": 20,
   "id": "f093f7e0",
   "metadata": {},
   "outputs": [],
   "source": [
    "ct1 = ColumnTransformer([('one', OneHotEncoder(), [0])], remainder = 'passthrough')\n",
    "y= ct1.fit_transform(y)"
   ]
  },
  {
   "cell_type": "code",
   "execution_count": 21,
   "id": "b4b79e83",
   "metadata": {},
   "outputs": [
    {
     "data": {
      "text/plain": [
       "array([[0., 1.],\n",
       "       [0., 1.],\n",
       "       [0., 1.],\n",
       "       ...,\n",
       "       [1., 0.],\n",
       "       [1., 0.],\n",
       "       [1., 0.]])"
      ]
     },
     "execution_count": 21,
     "metadata": {},
     "output_type": "execute_result"
    }
   ],
   "source": [
    "y"
   ]
  },
  {
   "cell_type": "code",
   "execution_count": 22,
   "id": "af7db75e",
   "metadata": {},
   "outputs": [
    {
     "data": {
      "text/plain": [
       "(11162, 2)"
      ]
     },
     "execution_count": 22,
     "metadata": {},
     "output_type": "execute_result"
    }
   ],
   "source": [
    "y.shape"
   ]
  },
  {
   "cell_type": "code",
   "execution_count": 23,
   "id": "142add1d",
   "metadata": {},
   "outputs": [],
   "source": [
    "from sklearn.model_selection import train_test_split"
   ]
  },
  {
   "cell_type": "code",
   "execution_count": 24,
   "id": "9c10764c",
   "metadata": {},
   "outputs": [],
   "source": [
    "x_train,x_test,y_train,y_test = train_test_split(x,y, test_size = 0.2,random_state = 0)"
   ]
  },
  {
   "cell_type": "code",
   "execution_count": 25,
   "id": "7df4f184",
   "metadata": {},
   "outputs": [
    {
     "data": {
      "text/plain": [
       "array([[0.0, 0.0, 0.0, ..., 1, -1, 0],\n",
       "       [0.0, 0.0, 0.0, ..., 1, -1, 0],\n",
       "       [0.0, 1.0, 0.0, ..., 5, -1, 0],\n",
       "       ...,\n",
       "       [0.0, 0.0, 0.0, ..., 8, -1, 0],\n",
       "       [1.0, 0.0, 0.0, ..., 1, -1, 0],\n",
       "       [0.0, 0.0, 0.0, ..., 1, -1, 0]], dtype=object)"
      ]
     },
     "execution_count": 25,
     "metadata": {},
     "output_type": "execute_result"
    }
   ],
   "source": [
    "x_train"
   ]
  },
  {
   "cell_type": "code",
   "execution_count": 26,
   "id": "d93f99f8",
   "metadata": {},
   "outputs": [
    {
     "data": {
      "text/plain": [
       "array([[1., 0.],\n",
       "       [0., 1.],\n",
       "       [0., 1.],\n",
       "       ...,\n",
       "       [1., 0.],\n",
       "       [1., 0.],\n",
       "       [0., 1.]])"
      ]
     },
     "execution_count": 26,
     "metadata": {},
     "output_type": "execute_result"
    }
   ],
   "source": [
    "y_train"
   ]
  },
  {
   "cell_type": "code",
   "execution_count": 27,
   "id": "d6bfa456",
   "metadata": {},
   "outputs": [
    {
     "name": "stdout",
     "output_type": "stream",
     "text": [
      "x_train shape \t (8929, 51)\n",
      "x_test shape \t (2233, 51)\n",
      "y_train shape \t (8929, 2)\n",
      "y_test shape \t (2233, 2)\n",
      "x shape \t (11162, 51)\n",
      "y shape \t (11162, 2)\n"
     ]
    }
   ],
   "source": [
    "print(\"x_train shape\", \"\\t\", x_train.shape)\n",
    "print(\"x_test shape\", \"\\t\", x_test.shape)\n",
    "print(\"y_train shape\", \"\\t\", y_train.shape)\n",
    "print(\"y_test shape\", \"\\t\", y_test.shape)\n",
    "print(\"x shape\", \"\\t\", x.shape)\n",
    "print(\"y shape\", \"\\t\", y.shape)\n"
   ]
  },
  {
   "cell_type": "code",
   "execution_count": 28,
   "id": "db33bece",
   "metadata": {},
   "outputs": [],
   "source": [
    "from sklearn.preprocessing import StandardScaler"
   ]
  },
  {
   "cell_type": "code",
   "execution_count": 29,
   "id": "165a287b",
   "metadata": {},
   "outputs": [],
   "source": [
    "sc=StandardScaler()"
   ]
  },
  {
   "cell_type": "code",
   "execution_count": 30,
   "id": "edcd23a9",
   "metadata": {},
   "outputs": [],
   "source": [
    "x_train=sc.fit_transform(x_train)\n",
    "x_test =sc.fit_transform(x_test)"
   ]
  },
  {
   "cell_type": "code",
   "execution_count": 31,
   "id": "0a4c2da6",
   "metadata": {},
   "outputs": [
    {
     "data": {
      "text/plain": [
       "array([[-0.37172192, -0.45760242, -0.17658264, ..., -0.56394809,\n",
       "        -0.48428507, -0.35888264],\n",
       "       [-0.37172192, -0.45760242, -0.17658264, ..., -0.56394809,\n",
       "        -0.48428507, -0.35888264],\n",
       "       [-0.37172192,  2.18530314, -0.17658264, ...,  0.92827075,\n",
       "        -0.48428507, -0.35888264],\n",
       "       ...,\n",
       "       [-0.37172192, -0.45760242, -0.17658264, ...,  2.04743488,\n",
       "        -0.48428507, -0.35888264],\n",
       "       [ 2.69018306, -0.45760242, -0.17658264, ..., -0.56394809,\n",
       "        -0.48428507, -0.35888264],\n",
       "       [-0.37172192, -0.45760242, -0.17658264, ..., -0.56394809,\n",
       "        -0.48428507, -0.35888264]])"
      ]
     },
     "execution_count": 31,
     "metadata": {},
     "output_type": "execute_result"
    }
   ],
   "source": [
    "x_train"
   ]
  },
  {
   "cell_type": "code",
   "execution_count": 32,
   "id": "da728068",
   "metadata": {
    "scrolled": true
   },
   "outputs": [
    {
     "data": {
      "text/plain": [
       "array([[-0.35506564, -0.46571851, -0.16329932, ..., -0.51893725,\n",
       "         2.62409874,  0.62465525],\n",
       "       [-0.35506564, -0.46571851, -0.16329932, ..., -0.51893725,\n",
       "         1.30248101,  1.63872661],\n",
       "       [-0.35506564, -0.46571851, -0.16329932, ..., -0.17189116,\n",
       "        -0.46885387, -0.38941612],\n",
       "       ...,\n",
       "       [-0.35506564, -0.46571851, -0.16329932, ..., -0.17189116,\n",
       "        -0.46885387, -0.38941612],\n",
       "       [ 2.81638066, -0.46571851, -0.16329932, ..., -0.51893725,\n",
       "        -0.46885387, -0.38941612],\n",
       "       [-0.35506564, -0.46571851, -0.16329932, ..., -0.17189116,\n",
       "        -0.46885387, -0.38941612]])"
      ]
     },
     "execution_count": 32,
     "metadata": {},
     "output_type": "execute_result"
    }
   ],
   "source": [
    "x_test"
   ]
  },
  {
   "cell_type": "code",
   "execution_count": 33,
   "id": "d0169657",
   "metadata": {},
   "outputs": [],
   "source": [
    "from tensorflow.keras.models import Sequential\n",
    "from tensorflow.keras.layers import Dense"
   ]
  },
  {
   "cell_type": "code",
   "execution_count": 34,
   "id": "190f6d78",
   "metadata": {},
   "outputs": [],
   "source": [
    "bank = Sequential()"
   ]
  },
  {
   "cell_type": "code",
   "execution_count": 35,
   "id": "488b5d0a",
   "metadata": {},
   "outputs": [],
   "source": [
    "bank.add(Dense(units=51,kernel_initializer='random_uniform',activation='relu'))"
   ]
  },
  {
   "cell_type": "code",
   "execution_count": 36,
   "id": "2a9af839",
   "metadata": {},
   "outputs": [],
   "source": [
    "bank.add(Dense(units=102,kernel_initializer='random_uniform',activation='relu'))"
   ]
  },
  {
   "cell_type": "code",
   "execution_count": 37,
   "id": "27dd2e71",
   "metadata": {},
   "outputs": [],
   "source": [
    "bank.add(Dense(units=102,kernel_initializer='random_uniform',activation='relu'))"
   ]
  },
  {
   "cell_type": "code",
   "execution_count": 38,
   "id": "de095548",
   "metadata": {},
   "outputs": [],
   "source": [
    "bank.add(Dense(units=2,kernel_initializer='random_uniform',activation='softmax'))"
   ]
  },
  {
   "cell_type": "code",
   "execution_count": 39,
   "id": "e36951d1",
   "metadata": {},
   "outputs": [],
   "source": [
    "bank.compile(optimizer = \"rmsprop\", loss = \"categorical_crossentropy\", metrics=[\"accuracy\"])"
   ]
  },
  {
   "cell_type": "code",
   "execution_count": 40,
   "id": "2b58c581",
   "metadata": {},
   "outputs": [
    {
     "name": "stdout",
     "output_type": "stream",
     "text": [
      "Epoch 1/25\n",
      "280/280 [==============================] - 1s 898us/step - loss: 0.4225 - accuracy: 0.8132\n",
      "Epoch 2/25\n",
      "280/280 [==============================] - 0s 958us/step - loss: 0.3618 - accuracy: 0.8474\n",
      "Epoch 3/25\n",
      "280/280 [==============================] - 0s 994us/step - loss: 0.3504 - accuracy: 0.8542\n",
      "Epoch 4/25\n",
      "280/280 [==============================] - 0s 989us/step - loss: 0.3389 - accuracy: 0.8605\n",
      "Epoch 5/25\n",
      "280/280 [==============================] - 0s 1ms/step - loss: 0.3315 - accuracy: 0.8635\n",
      "Epoch 6/25\n",
      "280/280 [==============================] - 0s 878us/step - loss: 0.3255 - accuracy: 0.8665\n",
      "Epoch 7/25\n",
      "280/280 [==============================] - 0s 934us/step - loss: 0.3186 - accuracy: 0.8709\n",
      "Epoch 8/25\n",
      "280/280 [==============================] - 0s 930us/step - loss: 0.3141 - accuracy: 0.8734\n",
      "Epoch 9/25\n",
      "280/280 [==============================] - 0s 991us/step - loss: 0.3090 - accuracy: 0.8746\n",
      "Epoch 10/25\n",
      "280/280 [==============================] - 0s 946us/step - loss: 0.3047 - accuracy: 0.8766\n",
      "Epoch 11/25\n",
      "280/280 [==============================] - 0s 954us/step - loss: 0.2987 - accuracy: 0.8785\n",
      "Epoch 12/25\n",
      "280/280 [==============================] - 0s 972us/step - loss: 0.2957 - accuracy: 0.8827\n",
      "Epoch 13/25\n",
      "280/280 [==============================] - 0s 964us/step - loss: 0.2917 - accuracy: 0.8798\n",
      "Epoch 14/25\n",
      "280/280 [==============================] - 0s 949us/step - loss: 0.2892 - accuracy: 0.8818\n",
      "Epoch 15/25\n",
      "280/280 [==============================] - 0s 955us/step - loss: 0.2841 - accuracy: 0.8858\n",
      "Epoch 16/25\n",
      "280/280 [==============================] - 0s 964us/step - loss: 0.2801 - accuracy: 0.8872\n",
      "Epoch 17/25\n",
      "280/280 [==============================] - 0s 951us/step - loss: 0.2766 - accuracy: 0.8878\n",
      "Epoch 18/25\n",
      "280/280 [==============================] - 0s 944us/step - loss: 0.2717 - accuracy: 0.8910\n",
      "Epoch 19/25\n",
      "280/280 [==============================] - 0s 1ms/step - loss: 0.2704 - accuracy: 0.8919\n",
      "Epoch 20/25\n",
      "280/280 [==============================] - 0s 1ms/step - loss: 0.2640 - accuracy: 0.8938\n",
      "Epoch 21/25\n",
      "280/280 [==============================] - 0s 1ms/step - loss: 0.2601 - accuracy: 0.8952: 0s - loss: 0.2607 - accuracy: 0.89\n",
      "Epoch 22/25\n",
      "280/280 [==============================] - 0s 890us/step - loss: 0.2572 - accuracy: 0.8939\n",
      "Epoch 23/25\n",
      "280/280 [==============================] - 0s 863us/step - loss: 0.2519 - accuracy: 0.8992\n",
      "Epoch 24/25\n",
      "280/280 [==============================] - 0s 901us/step - loss: 0.2472 - accuracy: 0.8977\n",
      "Epoch 25/25\n",
      "280/280 [==============================] - 0s 924us/step - loss: 0.2424 - accuracy: 0.9012\n"
     ]
    },
    {
     "data": {
      "text/plain": [
       "<keras.callbacks.History at 0x1ff72db4490>"
      ]
     },
     "execution_count": 40,
     "metadata": {},
     "output_type": "execute_result"
    }
   ],
   "source": [
    "bank.fit(x_train, y_train, epochs = 25)"
   ]
  },
  {
   "cell_type": "code",
   "execution_count": 41,
   "id": "bd8a93c7",
   "metadata": {},
   "outputs": [],
   "source": [
    "ypred=bank.predict(x_test)"
   ]
  },
  {
   "cell_type": "code",
   "execution_count": 42,
   "id": "2589fd87",
   "metadata": {},
   "outputs": [
    {
     "data": {
      "text/plain": [
       "array([[9.9936324e-01, 6.3671859e-04],\n",
       "       [5.3209201e-03, 9.9467909e-01],\n",
       "       [9.9956161e-01, 4.3839484e-04],\n",
       "       ...,\n",
       "       [1.4285862e-01, 8.5714138e-01],\n",
       "       [7.1352935e-01, 2.8647068e-01],\n",
       "       [9.8494118e-01, 1.5058816e-02]], dtype=float32)"
      ]
     },
     "execution_count": 42,
     "metadata": {},
     "output_type": "execute_result"
    }
   ],
   "source": [
    "ypred"
   ]
  },
  {
   "cell_type": "code",
   "execution_count": 43,
   "id": "c7359165",
   "metadata": {},
   "outputs": [
    {
     "data": {
      "text/plain": [
       "array([[1., 0.],\n",
       "       [0., 1.],\n",
       "       [1., 0.],\n",
       "       ...,\n",
       "       [0., 1.],\n",
       "       [0., 1.],\n",
       "       [1., 0.]])"
      ]
     },
     "execution_count": 43,
     "metadata": {},
     "output_type": "execute_result"
    }
   ],
   "source": [
    "y_test"
   ]
  },
  {
   "cell_type": "code",
   "execution_count": 44,
   "id": "0509d106",
   "metadata": {},
   "outputs": [],
   "source": [
    "ypred=ypred>0.5"
   ]
  },
  {
   "cell_type": "code",
   "execution_count": 45,
   "id": "c5cb87ce",
   "metadata": {},
   "outputs": [
    {
     "data": {
      "text/plain": [
       "array([[ True, False],\n",
       "       [False,  True],\n",
       "       [ True, False],\n",
       "       ...,\n",
       "       [False,  True],\n",
       "       [ True, False],\n",
       "       [ True, False]])"
      ]
     },
     "execution_count": 45,
     "metadata": {},
     "output_type": "execute_result"
    }
   ],
   "source": [
    "ypred"
   ]
  },
  {
   "cell_type": "code",
   "execution_count": 46,
   "id": "b15ffafb",
   "metadata": {},
   "outputs": [
    {
     "data": {
      "text/plain": [
       "array([[1., 0.],\n",
       "       [0., 1.],\n",
       "       [1., 0.],\n",
       "       ...,\n",
       "       [0., 1.],\n",
       "       [0., 1.],\n",
       "       [1., 0.]])"
      ]
     },
     "execution_count": 46,
     "metadata": {},
     "output_type": "execute_result"
    }
   ],
   "source": [
    "y_test"
   ]
  },
  {
   "cell_type": "code",
   "execution_count": 47,
   "id": "40c71e2a",
   "metadata": {},
   "outputs": [
    {
     "data": {
      "text/html": [
       "<div>\n",
       "<style scoped>\n",
       "    .dataframe tbody tr th:only-of-type {\n",
       "        vertical-align: middle;\n",
       "    }\n",
       "\n",
       "    .dataframe tbody tr th {\n",
       "        vertical-align: top;\n",
       "    }\n",
       "\n",
       "    .dataframe thead th {\n",
       "        text-align: right;\n",
       "    }\n",
       "</style>\n",
       "<table border=\"1\" class=\"dataframe\">\n",
       "  <thead>\n",
       "    <tr style=\"text-align: right;\">\n",
       "      <th></th>\n",
       "      <th>age</th>\n",
       "      <th>job</th>\n",
       "      <th>marital</th>\n",
       "      <th>education</th>\n",
       "      <th>default</th>\n",
       "      <th>balance</th>\n",
       "      <th>housing</th>\n",
       "      <th>loan</th>\n",
       "      <th>contact</th>\n",
       "      <th>day</th>\n",
       "      <th>month</th>\n",
       "      <th>duration</th>\n",
       "      <th>campaign</th>\n",
       "      <th>pdays</th>\n",
       "      <th>previous</th>\n",
       "      <th>poutcome</th>\n",
       "      <th>deposit</th>\n",
       "    </tr>\n",
       "  </thead>\n",
       "  <tbody>\n",
       "    <tr>\n",
       "      <th>0</th>\n",
       "      <td>59</td>\n",
       "      <td>admin.</td>\n",
       "      <td>married</td>\n",
       "      <td>secondary</td>\n",
       "      <td>no</td>\n",
       "      <td>2343</td>\n",
       "      <td>yes</td>\n",
       "      <td>no</td>\n",
       "      <td>unknown</td>\n",
       "      <td>5</td>\n",
       "      <td>may</td>\n",
       "      <td>1042</td>\n",
       "      <td>1</td>\n",
       "      <td>-1</td>\n",
       "      <td>0</td>\n",
       "      <td>unknown</td>\n",
       "      <td>yes</td>\n",
       "    </tr>\n",
       "  </tbody>\n",
       "</table>\n",
       "</div>"
      ],
      "text/plain": [
       "   age     job  marital  education default  balance housing loan  contact  \\\n",
       "0   59  admin.  married  secondary      no     2343     yes   no  unknown   \n",
       "\n",
       "   day month  duration  campaign  pdays  previous poutcome deposit  \n",
       "0    5   may      1042         1     -1         0  unknown     yes  "
      ]
     },
     "execution_count": 47,
     "metadata": {},
     "output_type": "execute_result"
    }
   ],
   "source": [
    "dataset.head(1)"
   ]
  },
  {
   "cell_type": "code",
   "execution_count": 48,
   "id": "33989248",
   "metadata": {},
   "outputs": [],
   "source": [
    "yp = bank.predict(sc.transform(ct.transform([[40, \"management\", \"married\", \"secondary\", \"no\", 4025, \"yes\", \"no\", \"cellular\", 15, \"jul\", 107, 4, -1, 0, \"unknown\"]])))"
   ]
  },
  {
   "cell_type": "code",
   "execution_count": 52,
   "id": "2abb3ddb",
   "metadata": {},
   "outputs": [],
   "source": [
    "yp=yp>0.5\n"
   ]
  },
  {
   "cell_type": "code",
   "execution_count": 54,
   "id": "ec86f83e",
   "metadata": {},
   "outputs": [
    {
     "data": {
      "text/plain": [
       "array(['yes', 'no'], dtype=object)"
      ]
     },
     "execution_count": 54,
     "metadata": {},
     "output_type": "execute_result"
    }
   ],
   "source": [
    "dataset[\"deposit\"].unique()"
   ]
  },
  {
   "cell_type": "code",
   "execution_count": 53,
   "id": "9d1ce3c5",
   "metadata": {},
   "outputs": [
    {
     "data": {
      "text/plain": [
       "array([[ True, False]])"
      ]
     },
     "execution_count": 53,
     "metadata": {},
     "output_type": "execute_result"
    }
   ],
   "source": [
    "yp#yes "
   ]
  },
  {
   "cell_type": "code",
   "execution_count": null,
   "id": "c4052b88",
   "metadata": {},
   "outputs": [],
   "source": []
  },
  {
   "cell_type": "code",
   "execution_count": null,
   "id": "e358eb5f",
   "metadata": {},
   "outputs": [],
   "source": []
  },
  {
   "cell_type": "code",
   "execution_count": null,
   "id": "2b1f6a65",
   "metadata": {},
   "outputs": [],
   "source": []
  }
 ],
 "metadata": {
  "kernelspec": {
   "display_name": "Python 3",
   "language": "python",
   "name": "python3"
  },
  "language_info": {
   "codemirror_mode": {
    "name": "ipython",
    "version": 3
   },
   "file_extension": ".py",
   "mimetype": "text/x-python",
   "name": "python",
   "nbconvert_exporter": "python",
   "pygments_lexer": "ipython3",
   "version": "3.8.8"
  }
 },
 "nbformat": 4,
 "nbformat_minor": 5
}
