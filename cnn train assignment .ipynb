{
 "cells": [
  {
   "cell_type": "code",
   "execution_count": 1,
   "id": "a18c4e6c",
   "metadata": {},
   "outputs": [],
   "source": [
    "from tensorflow.keras.models import Sequential\n",
    "from tensorflow.keras.layers import Dense,Flatten,Convolution2D,MaxPooling2D"
   ]
  },
  {
   "cell_type": "code",
   "execution_count": 4,
   "id": "d6b5b1b0",
   "metadata": {},
   "outputs": [],
   "source": [
    "from tensorflow.keras.preprocessing.image import ImageDataGenerator"
   ]
  },
  {
   "cell_type": "code",
   "execution_count": 5,
   "id": "30792676",
   "metadata": {},
   "outputs": [],
   "source": [
    "train_datagen= ImageDataGenerator(rescale=1./255,shear_range=0.2,zoom_range=0.2,horizontal_flip=True)\n",
    "test_datagen= ImageDataGenerator(rescale=1./255)"
   ]
  },
  {
   "cell_type": "code",
   "execution_count": 6,
   "id": "78089d3f",
   "metadata": {},
   "outputs": [
    {
     "name": "stdout",
     "output_type": "stream",
     "text": [
      "Found 8005 images belonging to 2 classes.\n",
      "Found 2023 images belonging to 2 classes.\n"
     ]
    }
   ],
   "source": [
    "x_train=train_datagen.flow_from_directory(r\"C:\\Users\\DELL\\Desktop\\training_set cat and dog\",target_size=(64,64),batch_size=32,class_mode='categorical')\n",
    "x_test=train_datagen.flow_from_directory(r\"C:\\Users\\DELL\\Desktop\\test_set cat and dog\",target_size=(64,64),batch_size=32,class_mode='categorical')"
   ]
  },
  {
   "cell_type": "code",
   "execution_count": 8,
   "id": "42679e12",
   "metadata": {},
   "outputs": [],
   "source": [
    "cnn=Sequential()"
   ]
  },
  {
   "cell_type": "code",
   "execution_count": 9,
   "id": "1cc7a22f",
   "metadata": {},
   "outputs": [],
   "source": [
    "cnn.add(Convolution2D(32,(3,3),input_shape=(64,64,3)))"
   ]
  },
  {
   "cell_type": "code",
   "execution_count": 10,
   "id": "be16eb04",
   "metadata": {},
   "outputs": [],
   "source": [
    "cnn.add(MaxPooling2D(2,2))"
   ]
  },
  {
   "cell_type": "code",
   "execution_count": 11,
   "id": "87ec05ca",
   "metadata": {},
   "outputs": [],
   "source": [
    "cnn.add(Flatten())"
   ]
  },
  {
   "cell_type": "code",
   "execution_count": 12,
   "id": "4141adc6",
   "metadata": {},
   "outputs": [],
   "source": [
    "cnn.add(Dense(units =128 ,kernel_initializer=\"random_uniform\",activation = 'relu'))"
   ]
  },
  {
   "cell_type": "code",
   "execution_count": 13,
   "id": "15bf86c9",
   "metadata": {},
   "outputs": [],
   "source": [
    "cnn.add(Dense(units = 2,kernel_initializer=\"random_uniform\",activation = 'softmax'))"
   ]
  },
  {
   "cell_type": "code",
   "execution_count": 14,
   "id": "c1e3d595",
   "metadata": {},
   "outputs": [],
   "source": [
    "cnn.compile(optimizer = 'rmsprop',loss=\"categorical_crossentropy\",metrics = ['accuracy'])"
   ]
  },
  {
   "cell_type": "code",
   "execution_count": 16,
   "id": "7a502ff4",
   "metadata": {},
   "outputs": [
    {
     "name": "stderr",
     "output_type": "stream",
     "text": [
      "C:\\Users\\DELL\\anaconda3\\lib\\site-packages\\keras\\engine\\training.py:1972: UserWarning: `Model.fit_generator` is deprecated and will be removed in a future version. Please use `Model.fit`, which supports generators.\n",
      "  warnings.warn('`Model.fit_generator` is deprecated and '\n"
     ]
    },
    {
     "name": "stdout",
     "output_type": "stream",
     "text": [
      "Epoch 1/15\n",
      "250/250 [==============================] - 176s 700ms/step - loss: 0.7621 - accuracy: 0.5944 - val_loss: 0.6559 - val_accuracy: 0.6075\n",
      "Epoch 2/15\n",
      "250/250 [==============================] - 90s 360ms/step - loss: 0.6294 - accuracy: 0.6482 - val_loss: 0.6104 - val_accuracy: 0.6693\n",
      "Epoch 3/15\n",
      "250/250 [==============================] - 87s 349ms/step - loss: 0.6054 - accuracy: 0.6712 - val_loss: 0.7636 - val_accuracy: 0.5877\n",
      "Epoch 4/15\n",
      "250/250 [==============================] - 88s 353ms/step - loss: 0.5943 - accuracy: 0.6837 - val_loss: 0.6024 - val_accuracy: 0.6688\n",
      "Epoch 5/15\n",
      "250/250 [==============================] - 89s 358ms/step - loss: 0.5782 - accuracy: 0.6996 - val_loss: 0.6011 - val_accuracy: 0.6836\n",
      "Epoch 6/15\n",
      "250/250 [==============================] - 88s 353ms/step - loss: 0.5534 - accuracy: 0.7215 - val_loss: 0.6809 - val_accuracy: 0.6382\n",
      "Epoch 7/15\n",
      "250/250 [==============================] - 88s 352ms/step - loss: 0.5463 - accuracy: 0.7259 - val_loss: 0.5930 - val_accuracy: 0.6777\n",
      "Epoch 8/15\n",
      "250/250 [==============================] - 88s 350ms/step - loss: 0.5265 - accuracy: 0.7450 - val_loss: 0.5964 - val_accuracy: 0.6876\n",
      "Epoch 9/15\n",
      "250/250 [==============================] - 87s 350ms/step - loss: 0.5183 - accuracy: 0.7493 - val_loss: 0.6283 - val_accuracy: 0.6772\n",
      "Epoch 10/15\n",
      "250/250 [==============================] - 89s 354ms/step - loss: 0.4996 - accuracy: 0.7634 - val_loss: 0.5818 - val_accuracy: 0.7024\n",
      "Epoch 11/15\n",
      "250/250 [==============================] - 88s 351ms/step - loss: 0.4946 - accuracy: 0.7643 - val_loss: 0.6135 - val_accuracy: 0.6960\n",
      "Epoch 12/15\n",
      "250/250 [==============================] - 87s 349ms/step - loss: 0.4724 - accuracy: 0.7758 - val_loss: 0.6359 - val_accuracy: 0.7004\n",
      "Epoch 13/15\n",
      "250/250 [==============================] - 88s 351ms/step - loss: 0.4600 - accuracy: 0.7915 - val_loss: 0.6499 - val_accuracy: 0.6980\n",
      "Epoch 14/15\n",
      "250/250 [==============================] - 87s 348ms/step - loss: 0.4523 - accuracy: 0.7895 - val_loss: 0.7384 - val_accuracy: 0.6624\n",
      "Epoch 15/15\n",
      "250/250 [==============================] - 93s 371ms/step - loss: 0.4530 - accuracy: 0.7915 - val_loss: 0.6062 - val_accuracy: 0.6975\n"
     ]
    },
    {
     "data": {
      "text/plain": [
       "<keras.callbacks.History at 0x1b6b64454f0>"
      ]
     },
     "execution_count": 16,
     "metadata": {},
     "output_type": "execute_result"
    }
   ],
   "source": [
    "cnn.fit_generator(x_train,steps_per_epoch=8005/32,epochs=15,validation_data=x_test,validation_steps=2023/32)"
   ]
  },
  {
   "cell_type": "code",
   "execution_count": 17,
   "id": "29332482",
   "metadata": {},
   "outputs": [],
   "source": [
    "cnn.save(\"catsdogs.h5\")"
   ]
  },
  {
   "cell_type": "code",
   "execution_count": null,
   "id": "01933341",
   "metadata": {},
   "outputs": [],
   "source": []
  }
 ],
 "metadata": {
  "kernelspec": {
   "display_name": "Python 3",
   "language": "python",
   "name": "python3"
  },
  "language_info": {
   "codemirror_mode": {
    "name": "ipython",
    "version": 3
   },
   "file_extension": ".py",
   "mimetype": "text/x-python",
   "name": "python",
   "nbconvert_exporter": "python",
   "pygments_lexer": "ipython3",
   "version": "3.8.8"
  }
 },
 "nbformat": 4,
 "nbformat_minor": 5
}
